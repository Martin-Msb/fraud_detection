{
 "cells": [
  {
   "cell_type": "markdown",
   "id": "291d703f-cedb-47bb-8956-5a493272fba0",
   "metadata": {},
   "source": [
    "Import Libraries"
   ]
  },
  {
   "cell_type": "code",
   "execution_count": 2,
   "id": "4a2394af-f5e1-4609-a279-15199b4ac97b",
   "metadata": {},
   "outputs": [],
   "source": [
    "import numpy as np\n",
    "import pandas as pd\n",
    "import matplotlib\n",
    "import matplotlib.pyplot as plt\n",
    "import seaborn as sns\n",
    "import sklearn \n",
    "from sklearn.linear_model import LogisticRegression\n",
    "from sklearn.model_selection import train_test_split\n",
    "from sklearn.preprocessing import StandardScaler\n",
    "from sklearn.metrics import roc_auc_score, plot_roc_curve, confusion_matrix\n",
    "from sklearn.model_selection import KFold\n",
    "\n",
    "import warnings\n",
    "warnings.filterwarnings('ignore')"
   ]
  },
  {
   "cell_type": "markdown",
   "id": "57100789-f5eb-44bb-bcb5-d22898c05e25",
   "metadata": {},
   "source": [
    "Load data"
   ]
  },
  {
   "cell_type": "code",
   "execution_count": 3,
   "id": "a78204f6-441c-48d9-8cf6-f5e91ee4bbc7",
   "metadata": {},
   "outputs": [],
   "source": [
    "data_path = \"dataset/creditcard.csv\"\n",
    "df = pd.read_csv(data_path)"
   ]
  },
  {
   "cell_type": "code",
   "execution_count": 4,
   "id": "dc4cc45f-a6d9-4e28-a0ee-5e4cba90826c",
   "metadata": {},
   "outputs": [
    {
     "data": {
      "text/html": [
       "<div>\n",
       "<style scoped>\n",
       "    .dataframe tbody tr th:only-of-type {\n",
       "        vertical-align: middle;\n",
       "    }\n",
       "\n",
       "    .dataframe tbody tr th {\n",
       "        vertical-align: top;\n",
       "    }\n",
       "\n",
       "    .dataframe thead th {\n",
       "        text-align: right;\n",
       "    }\n",
       "</style>\n",
       "<table border=\"1\" class=\"dataframe\">\n",
       "  <thead>\n",
       "    <tr style=\"text-align: right;\">\n",
       "      <th></th>\n",
       "      <th>Time</th>\n",
       "      <th>V1</th>\n",
       "      <th>V2</th>\n",
       "      <th>V3</th>\n",
       "      <th>V4</th>\n",
       "      <th>V5</th>\n",
       "      <th>V6</th>\n",
       "      <th>V7</th>\n",
       "      <th>V8</th>\n",
       "      <th>V9</th>\n",
       "      <th>...</th>\n",
       "      <th>V21</th>\n",
       "      <th>V22</th>\n",
       "      <th>V23</th>\n",
       "      <th>V24</th>\n",
       "      <th>V25</th>\n",
       "      <th>V26</th>\n",
       "      <th>V27</th>\n",
       "      <th>V28</th>\n",
       "      <th>Amount</th>\n",
       "      <th>Class</th>\n",
       "    </tr>\n",
       "  </thead>\n",
       "  <tbody>\n",
       "    <tr>\n",
       "      <th>0</th>\n",
       "      <td>0.0</td>\n",
       "      <td>-1.359807</td>\n",
       "      <td>-0.072781</td>\n",
       "      <td>2.536347</td>\n",
       "      <td>1.378155</td>\n",
       "      <td>-0.338321</td>\n",
       "      <td>0.462388</td>\n",
       "      <td>0.239599</td>\n",
       "      <td>0.098698</td>\n",
       "      <td>0.363787</td>\n",
       "      <td>...</td>\n",
       "      <td>-0.018307</td>\n",
       "      <td>0.277838</td>\n",
       "      <td>-0.110474</td>\n",
       "      <td>0.066928</td>\n",
       "      <td>0.128539</td>\n",
       "      <td>-0.189115</td>\n",
       "      <td>0.133558</td>\n",
       "      <td>-0.021053</td>\n",
       "      <td>149.62</td>\n",
       "      <td>0</td>\n",
       "    </tr>\n",
       "    <tr>\n",
       "      <th>1</th>\n",
       "      <td>0.0</td>\n",
       "      <td>1.191857</td>\n",
       "      <td>0.266151</td>\n",
       "      <td>0.166480</td>\n",
       "      <td>0.448154</td>\n",
       "      <td>0.060018</td>\n",
       "      <td>-0.082361</td>\n",
       "      <td>-0.078803</td>\n",
       "      <td>0.085102</td>\n",
       "      <td>-0.255425</td>\n",
       "      <td>...</td>\n",
       "      <td>-0.225775</td>\n",
       "      <td>-0.638672</td>\n",
       "      <td>0.101288</td>\n",
       "      <td>-0.339846</td>\n",
       "      <td>0.167170</td>\n",
       "      <td>0.125895</td>\n",
       "      <td>-0.008983</td>\n",
       "      <td>0.014724</td>\n",
       "      <td>2.69</td>\n",
       "      <td>0</td>\n",
       "    </tr>\n",
       "    <tr>\n",
       "      <th>2</th>\n",
       "      <td>1.0</td>\n",
       "      <td>-1.358354</td>\n",
       "      <td>-1.340163</td>\n",
       "      <td>1.773209</td>\n",
       "      <td>0.379780</td>\n",
       "      <td>-0.503198</td>\n",
       "      <td>1.800499</td>\n",
       "      <td>0.791461</td>\n",
       "      <td>0.247676</td>\n",
       "      <td>-1.514654</td>\n",
       "      <td>...</td>\n",
       "      <td>0.247998</td>\n",
       "      <td>0.771679</td>\n",
       "      <td>0.909412</td>\n",
       "      <td>-0.689281</td>\n",
       "      <td>-0.327642</td>\n",
       "      <td>-0.139097</td>\n",
       "      <td>-0.055353</td>\n",
       "      <td>-0.059752</td>\n",
       "      <td>378.66</td>\n",
       "      <td>0</td>\n",
       "    </tr>\n",
       "    <tr>\n",
       "      <th>3</th>\n",
       "      <td>1.0</td>\n",
       "      <td>-0.966272</td>\n",
       "      <td>-0.185226</td>\n",
       "      <td>1.792993</td>\n",
       "      <td>-0.863291</td>\n",
       "      <td>-0.010309</td>\n",
       "      <td>1.247203</td>\n",
       "      <td>0.237609</td>\n",
       "      <td>0.377436</td>\n",
       "      <td>-1.387024</td>\n",
       "      <td>...</td>\n",
       "      <td>-0.108300</td>\n",
       "      <td>0.005274</td>\n",
       "      <td>-0.190321</td>\n",
       "      <td>-1.175575</td>\n",
       "      <td>0.647376</td>\n",
       "      <td>-0.221929</td>\n",
       "      <td>0.062723</td>\n",
       "      <td>0.061458</td>\n",
       "      <td>123.50</td>\n",
       "      <td>0</td>\n",
       "    </tr>\n",
       "    <tr>\n",
       "      <th>4</th>\n",
       "      <td>2.0</td>\n",
       "      <td>-1.158233</td>\n",
       "      <td>0.877737</td>\n",
       "      <td>1.548718</td>\n",
       "      <td>0.403034</td>\n",
       "      <td>-0.407193</td>\n",
       "      <td>0.095921</td>\n",
       "      <td>0.592941</td>\n",
       "      <td>-0.270533</td>\n",
       "      <td>0.817739</td>\n",
       "      <td>...</td>\n",
       "      <td>-0.009431</td>\n",
       "      <td>0.798278</td>\n",
       "      <td>-0.137458</td>\n",
       "      <td>0.141267</td>\n",
       "      <td>-0.206010</td>\n",
       "      <td>0.502292</td>\n",
       "      <td>0.219422</td>\n",
       "      <td>0.215153</td>\n",
       "      <td>69.99</td>\n",
       "      <td>0</td>\n",
       "    </tr>\n",
       "  </tbody>\n",
       "</table>\n",
       "<p>5 rows × 31 columns</p>\n",
       "</div>"
      ],
      "text/plain": [
       "   Time        V1        V2        V3        V4        V5        V6        V7  \\\n",
       "0   0.0 -1.359807 -0.072781  2.536347  1.378155 -0.338321  0.462388  0.239599   \n",
       "1   0.0  1.191857  0.266151  0.166480  0.448154  0.060018 -0.082361 -0.078803   \n",
       "2   1.0 -1.358354 -1.340163  1.773209  0.379780 -0.503198  1.800499  0.791461   \n",
       "3   1.0 -0.966272 -0.185226  1.792993 -0.863291 -0.010309  1.247203  0.237609   \n",
       "4   2.0 -1.158233  0.877737  1.548718  0.403034 -0.407193  0.095921  0.592941   \n",
       "\n",
       "         V8        V9  ...       V21       V22       V23       V24       V25  \\\n",
       "0  0.098698  0.363787  ... -0.018307  0.277838 -0.110474  0.066928  0.128539   \n",
       "1  0.085102 -0.255425  ... -0.225775 -0.638672  0.101288 -0.339846  0.167170   \n",
       "2  0.247676 -1.514654  ...  0.247998  0.771679  0.909412 -0.689281 -0.327642   \n",
       "3  0.377436 -1.387024  ... -0.108300  0.005274 -0.190321 -1.175575  0.647376   \n",
       "4 -0.270533  0.817739  ... -0.009431  0.798278 -0.137458  0.141267 -0.206010   \n",
       "\n",
       "        V26       V27       V28  Amount  Class  \n",
       "0 -0.189115  0.133558 -0.021053  149.62      0  \n",
       "1  0.125895 -0.008983  0.014724    2.69      0  \n",
       "2 -0.139097 -0.055353 -0.059752  378.66      0  \n",
       "3 -0.221929  0.062723  0.061458  123.50      0  \n",
       "4  0.502292  0.219422  0.215153   69.99      0  \n",
       "\n",
       "[5 rows x 31 columns]"
      ]
     },
     "execution_count": 4,
     "metadata": {},
     "output_type": "execute_result"
    }
   ],
   "source": [
    "df.head()"
   ]
  },
  {
   "cell_type": "code",
   "execution_count": 5,
   "id": "5263f640-bbfc-4bb3-b15d-418b17bd5a8e",
   "metadata": {},
   "outputs": [],
   "source": [
    "normal = df[df.Class == 0].sample(frac=0.5, random_state=2020).reset_index(drop=True)\n",
    "anomaly = df[df.Class == 1]"
   ]
  },
  {
   "cell_type": "code",
   "execution_count": 6,
   "id": "336462f2-c43c-4663-8f57-5acb5f1934d7",
   "metadata": {},
   "outputs": [
    {
     "name": "stdout",
     "output_type": "stream",
     "text": [
      "Normal: (142158, 31)\n",
      "Anomaly: (492, 31)\n"
     ]
    }
   ],
   "source": [
    "print(f\"Normal: {normal.shape}\")\n",
    "print(f\"Anomaly: {anomaly.shape}\")"
   ]
  },
  {
   "cell_type": "markdown",
   "id": "4e022ca5-9ec9-4af6-b209-685315c606d7",
   "metadata": {},
   "source": [
    "Split the data into training, validation and test sets in 60/20/20\n",
    "\n",
    "Use train_test_split to first obtain the train and test sets in 80/20 and then use the 80 training set to further split into validation set (0.25*0.8=0.2)"
   ]
  },
  {
   "cell_type": "code",
   "execution_count": 7,
   "id": "f91850a8-5851-4834-92a4-2fdd8c90d53a",
   "metadata": {},
   "outputs": [],
   "source": [
    "normal_train, normal_test = train_test_split(normal, test_size = 0.2, random_state = 2020)\n",
    "anomaly_train, anomaly_test = train_test_split(anomaly, test_size = 0.2, random_state = 2020)"
   ]
  },
  {
   "cell_type": "code",
   "execution_count": 8,
   "id": "13049807-ed65-4fef-b3fb-ce8f6dd5a675",
   "metadata": {},
   "outputs": [],
   "source": [
    "normal_train, normal_validate = train_test_split(normal_train, test_size = 0.25, random_state = 2020)\n",
    "anomaly_train, anomaly_validate = train_test_split(anomaly_train, test_size = 0.25, random_state = 2020)"
   ]
  },
  {
   "cell_type": "markdown",
   "id": "2622b953-ccfa-41f6-a2cd-2473aa9cd41b",
   "metadata": {},
   "source": [
    "Create final training, test and validation by concatenating the splits"
   ]
  },
  {
   "cell_type": "code",
   "execution_count": 9,
   "id": "88d3dbf1-41c6-462e-b563-82e1fe43daab",
   "metadata": {},
   "outputs": [],
   "source": [
    "x_train = pd.concat((normal_train, anomaly_train))\n",
    "x_test = pd.concat((normal_test, anomaly_test))\n",
    "x_validate = pd.concat((normal_validate, anomaly_validate))"
   ]
  },
  {
   "cell_type": "code",
   "execution_count": 10,
   "id": "c6073e0a-013d-4e37-81b6-f77bfa52d194",
   "metadata": {},
   "outputs": [],
   "source": [
    "y_train = np.array(x_train[\"Class\"])\n",
    "y_test = np.array(x_test[\"Class\"])\n",
    "y_validate = np.array(x_validate[\"Class\"])"
   ]
  },
  {
   "cell_type": "markdown",
   "id": "fec6ae1a-27df-412e-9190-cab506f7d9ec",
   "metadata": {},
   "source": [
    "Drop Class column"
   ]
  },
  {
   "cell_type": "code",
   "execution_count": 11,
   "id": "f0188e0c-3a87-4168-b62d-a5b87e2e02e5",
   "metadata": {},
   "outputs": [],
   "source": [
    "x_train = x_train.drop(\"Class\", axis=1)\n",
    "x_test = x_test.drop(\"Class\", axis=1)\n",
    "x_validate = x_validate.drop(\"Class\", axis=1)"
   ]
  },
  {
   "cell_type": "code",
   "execution_count": 12,
   "id": "99a0407f-9b7a-471d-aef9-33136acd0982",
   "metadata": {},
   "outputs": [
    {
     "name": "stdout",
     "output_type": "stream",
     "text": [
      "Training sets:\n",
      "x_train: (85588, 30) y_train: (85588,)\n",
      "\n",
      "Testing sets:\n",
      "x_test: (28531, 30) y_test: (28531,)\n",
      "\n",
      "Validation sets:\n",
      "x_validate: (28531, 30) y_validate: (28531,)\n"
     ]
    }
   ],
   "source": [
    "#Data shapes\n",
    "print(\"Training sets:\\nx_train: {} y_train: {}\".format(x_train.shape, y_train.shape))\n",
    "print(\"\\nTesting sets:\\nx_test: {} y_test: {}\".format(x_test.shape, y_test.shape))\n",
    "print(\"\\nValidation sets:\\nx_validate: {} y_validate: {}\".format(x_validate.shape, y_validate.shape))"
   ]
  },
  {
   "cell_type": "markdown",
   "id": "03e53309-6860-434b-9a7c-d313cf6733a1",
   "metadata": {},
   "source": [
    "Data Normalization"
   ]
  },
  {
   "cell_type": "code",
   "execution_count": 13,
   "id": "daf33420-2ab0-45ee-b45a-36038f4474f4",
   "metadata": {
    "tags": []
   },
   "outputs": [],
   "source": [
    "scaler = StandardScaler()\n",
    "scaler.fit(pd.concat((normal, anomaly)).drop(\"Class\", axis=1))\n",
    "x_train = scaler.transform(x_train)\n",
    "x_test = scaler.transform(x_test)\n",
    "x_validate = scaler.transform(x_validate)"
   ]
  },
  {
   "cell_type": "code",
   "execution_count": 14,
   "id": "58bf2d6d-e62e-42d8-a1c1-ef73ad393598",
   "metadata": {},
   "outputs": [],
   "source": [
    "#Logistic Regression\n",
    "sk_model = LogisticRegression(random_state=None, max_iter=400, solver='newton-cg').fit(x_train, y_train)"
   ]
  },
  {
   "cell_type": "code",
   "execution_count": 15,
   "id": "95c5c44d-bd63-4634-a4a8-b197ab26886e",
   "metadata": {},
   "outputs": [],
   "source": [
    "#Model Evaluation\n",
    "eval_acc = sk_model.score(x_test, y_test)"
   ]
  },
  {
   "cell_type": "code",
   "execution_count": 16,
   "id": "7fcd606f-753e-4b41-bfd4-d0d865e1ab6b",
   "metadata": {},
   "outputs": [],
   "source": [
    "preds = sk_model.predict(x_test)\n",
    "auc_score = roc_auc_score(y_test, preds)"
   ]
  },
  {
   "cell_type": "code",
   "execution_count": 17,
   "id": "efbebed6-285f-4ed8-81a9-552496f4f665",
   "metadata": {},
   "outputs": [
    {
     "name": "stdout",
     "output_type": "stream",
     "text": [
      "Auc Score: 84.331%\n",
      "Eval Accuracy: 99.867%\n"
     ]
    }
   ],
   "source": [
    "print(f\"Auc Score: {auc_score:.3%}\")\n",
    "print(f\"Eval Accuracy: {eval_acc:.3%}\")"
   ]
  },
  {
   "cell_type": "code",
   "execution_count": 18,
   "id": "e3cb253f-4ab9-4c13-8726-d9b7f26645f6",
   "metadata": {},
   "outputs": [
    {
     "data": {
      "image/png": "[encoded data removed]",
      "text/plain": [
       "<Figure size 640x480 with 1 Axes>"
      ]
     },
     "metadata": {},
     "output_type": "display_data"
    }
   ],
   "source": [
    "roc_plot = plot_roc_curve(sk_model, x_test, y_test, name='Scikit-learn ROC Curve')"
   ]
  },
  {
   "cell_type": "code",
   "execution_count": 19,
   "id": "e5b781b9-6ab9-47e5-8486-595e5f08b06c",
   "metadata": {},
   "outputs": [
    {
     "data": {
      "text/plain": [
       "Text(0.5, 23.52222222222222, 'Predicted')"
      ]
     },
     "execution_count": 19,
     "metadata": {},
     "output_type": "execute_result"
    },
    {
     "data": {
      "image/png": "[encoded data removed]",
      "text/plain": [
       "<Figure size 640x480 with 2 Axes>"
      ]
     },
     "metadata": {},
     "output_type": "display_data"
    }
   ],
   "source": [
    "conf_matrix = confusion_matrix(y_test, preds)\n",
    "ax = sns.heatmap(conf_matrix, annot=True,fmt='g')\n",
    "ax.invert_xaxis()\n",
    "ax.invert_yaxis()\n",
    "plt.ylabel('Actual')\n",
    "plt.xlabel('Predicted')"
   ]
  },
  {
   "cell_type": "code",
   "execution_count": 20,
   "id": "4dc57e40-af30-4c84-ab82-41fed54070d9",
   "metadata": {},
   "outputs": [],
   "source": [
    "anomaly_weights = [1, 5, 10, 15]"
   ]
  },
  {
   "cell_type": "code",
   "execution_count": 21,
   "id": "3f666b18-8534-4dd0-9865-598beea72cba",
   "metadata": {},
   "outputs": [],
   "source": [
    "num_folds = 5\n",
    "kfold = KFold(n_splits=num_folds, shuffle=True, random_state=2020)"
   ]
  },
  {
   "cell_type": "markdown",
   "id": "93f17b39-8da9-47ec-a098-54ff65b2aa3b",
   "metadata": {},
   "source": [
    "Validation Script"
   ]
  },
  {
   "cell_type": "code",
   "execution_count": 22,
   "id": "d768e0a8-e010-494e-be8f-78cbeacd8f68",
   "metadata": {},
   "outputs": [
    {
     "name": "stdout",
     "output_type": "stream",
     "text": [
      "----------------------------------------\n",
      "fold 1\n",
      "Anomaly Weight: 1\n",
      "AUC: 0.8\n",
      "eval_acc: 0.9985982127212195\n",
      "----------------------------------------\n",
      "fold 2\n",
      "Anomaly Weight: 1\n",
      "AUC: 0.8568790049001132\n",
      "eval_acc: 0.998422712933754\n",
      "----------------------------------------\n",
      "fold 3\n",
      "Anomaly Weight: 1\n",
      "AUC: 0.8179179195189047\n",
      "eval_acc: 0.9980722046968104\n",
      "----------------------------------------\n",
      "fold 4\n",
      "Anomaly Weight: 1\n",
      "AUC: 0.8682452129973255\n",
      "eval_acc: 0.9987732211706976\n",
      "----------------------------------------\n",
      "fold 5\n",
      "Anomaly Weight: 1\n",
      "AUC: 0.8528532875621686\n",
      "eval_acc: 0.9989484752891693\n",
      "\n",
      "Averages: \n",
      "Accuracy:  0.9985629653623302\n",
      "AUC:  0.8391790849957024\n",
      "Best: \n",
      "Accuracy:  0.9989484752891693\n",
      "AUC:  0.8682452129973255\n",
      "----------------------------------------\n",
      "fold 1\n",
      "Anomaly Weight: 5\n",
      "AUC: 0.8748241603657465\n",
      "eval_acc: 0.9987734361310671\n",
      "----------------------------------------\n",
      "fold 2\n",
      "Anomaly Weight: 5\n",
      "AUC: 0.9515893956527202\n",
      "eval_acc: 0.9980722046968104\n",
      "----------------------------------------\n",
      "fold 3\n",
      "Anomaly Weight: 5\n",
      "AUC: 0.9314663169342972\n",
      "eval_acc: 0.9987732211706976\n",
      "----------------------------------------\n",
      "fold 4\n",
      "Anomaly Weight: 5\n",
      "AUC: 0.8943851628367561\n",
      "eval_acc: 0.9985979670522257\n",
      "----------------------------------------\n",
      "fold 5\n",
      "Anomaly Weight: 5\n",
      "AUC: 0.8820013855427915\n",
      "eval_acc: 0.9985979670522257\n",
      "\n",
      "Averages: \n",
      "Accuracy:  0.9985629592206052\n",
      "AUC:  0.9068532842664622\n",
      "Best: \n",
      "Accuracy:  0.9987734361310671\n",
      "AUC:  0.9515893956527202\n",
      "----------------------------------------\n",
      "fold 1\n",
      "Anomaly Weight: 10\n",
      "AUC: 0.9245604009143662\n",
      "eval_acc: 0.9985982127212195\n",
      "----------------------------------------\n",
      "fold 2\n",
      "Anomaly Weight: 10\n",
      "AUC: 0.9751350672194998\n",
      "eval_acc: 0.9977216964598669\n",
      "----------------------------------------\n",
      "fold 3\n",
      "Anomaly Weight: 10\n",
      "AUC: 0.9313783507133262\n",
      "eval_acc: 0.9985979670522257\n",
      "----------------------------------------\n",
      "fold 4\n",
      "Anomaly Weight: 10\n",
      "AUC: 0.8942972430196292\n",
      "eval_acc: 0.998422712933754\n",
      "----------------------------------------\n",
      "fold 5\n",
      "Anomaly Weight: 10\n",
      "AUC: 0.8820013855427915\n",
      "eval_acc: 0.9985979670522257\n",
      "\n",
      "Averages: \n",
      "Accuracy:  0.9983877112438584\n",
      "AUC:  0.9214744894819227\n",
      "Best: \n",
      "Accuracy:  0.9985982127212195\n",
      "AUC:  0.9751350672194998\n",
      "----------------------------------------\n",
      "fold 1\n",
      "Anomaly Weight: 15\n",
      "AUC: 0.9242087216458591\n",
      "eval_acc: 0.9978973190818293\n",
      "----------------------------------------\n",
      "fold 2\n",
      "Anomaly Weight: 15\n",
      "AUC: 0.9749591657243373\n",
      "eval_acc: 0.9973711882229233\n",
      "----------------------------------------\n",
      "fold 3\n",
      "Anomaly Weight: 15\n",
      "AUC: 0.9313783507133262\n",
      "eval_acc: 0.9985979670522257\n",
      "----------------------------------------\n",
      "fold 4\n",
      "Anomaly Weight: 15\n",
      "AUC: 0.8938576439339954\n",
      "eval_acc: 0.997546442341395\n",
      "----------------------------------------\n",
      "fold 5\n",
      "Anomaly Weight: 15\n",
      "AUC: 0.8813861631838532\n",
      "eval_acc: 0.9973711882229233\n",
      "\n",
      "Averages: \n",
      "Accuracy:  0.9977568209842593\n",
      "AUC:  0.9211580090402742\n",
      "Best: \n",
      "Accuracy:  0.9985979670522257\n",
      "AUC:  0.9749591657243373\n"
     ]
    }
   ],
   "source": [
    "logs = []\n",
    "for f in range(len(anomaly_weights)):\n",
    "    fold = 1\n",
    "    accuracies = []\n",
    "    auc_scores= []\n",
    "    for train, test in kfold.split(x_validate, y_validate):\n",
    "        weight = anomaly_weights[f]\n",
    "        \n",
    "        class_weights= {\n",
    "            0:1,\n",
    "            1: weight}        \n",
    "        \n",
    "        sk_model = LogisticRegression(random_state=None,\n",
    "                                      max_iter=400,\n",
    "                                      solver='newton-cg',\n",
    "                                      class_weight=class_weights).fit(x_validate[train], y_validate[train])\n",
    "        \n",
    "        for h in range(40): print('-', end=\"\")\n",
    "        print(f\"\\nfold {fold}\\nAnomaly Weight: {weight}\")\n",
    "        \n",
    "        eval_acc = sk_model.score(x_validate[test], y_validate[test])\n",
    "        preds = sk_model.predict(x_validate[test])\n",
    "        \n",
    "        try:\n",
    "            auc_score = roc_auc_score(y_validate[test], preds)\n",
    "        except:\n",
    "            auc_score = -1\n",
    "        \n",
    "        print(\"AUC: {}\\neval_acc: {}\".format(auc_score, eval_acc))\n",
    "        \n",
    "        accuracies.append(eval_acc)\n",
    "        auc_scores.append(auc_score)\n",
    "        \n",
    "        log = [sk_model, x_validate[test], y_validate[test], preds]\n",
    "        logs.append(log)\n",
    "        \n",
    "        fold = fold + 1\n",
    "        \n",
    "    print(\"\\nAverages: \")\n",
    "    print(\"Accuracy: \", np.mean(accuracies))\n",
    "    print(\"AUC: \", np.mean(auc_scores))\n",
    "    print(\"Best: \")\n",
    "    print(\"Accuracy: \", np.max(accuracies))\n",
    "    print(\"AUC: \", np.max(auc_scores))"
   ]
  },
  {
   "cell_type": "code",
   "execution_count": 23,
   "id": "ebea0009-c392-484b-8c2a-622ebeafb21a",
   "metadata": {},
   "outputs": [],
   "source": [
    "#Anomaly weight 10 gives the best results, select from logs[index_11]\n",
    "sk_model, x_val, y_val, preds = logs[11]"
   ]
  },
  {
   "cell_type": "code",
   "execution_count": 24,
   "id": "fcf7822c-315e-4096-98c8-ec9cbc555ef9",
   "metadata": {},
   "outputs": [
    {
     "data": {
      "image/png": "[encoded data removed]",
      "text/plain": [
       "<Figure size 640x480 with 1 Axes>"
      ]
     },
     "metadata": {},
     "output_type": "display_data"
    }
   ],
   "source": [
    "#Plot the ROC curve \n",
    "roc_plot = plot_roc_curve(sk_model, x_val, y_val, name='Scikit-learn ROC Curve')"
   ]
  },
  {
   "cell_type": "code",
   "execution_count": 25,
   "id": "e60886f9-c687-4588-8078-843622b348d4",
   "metadata": {},
   "outputs": [
    {
     "data": {
      "text/plain": [
       "Text(0.5, 23.52222222222222, 'Predicted')"
      ]
     },
     "execution_count": 25,
     "metadata": {},
     "output_type": "execute_result"
    },
    {
     "data": {
      "image/png": "[encoded data removed]",
      "text/plain": [
       "<Figure size 640x480 with 2 Axes>"
      ]
     },
     "metadata": {},
     "output_type": "display_data"
    }
   ],
   "source": [
    "#Confusion Matrix\n",
    "conf_matrix = confusion_matrix(y_val, preds)\n",
    "ax = sns.heatmap(conf_matrix, annot=True,fmt='g')\n",
    "ax.invert_xaxis()\n",
    "ax.invert_yaxis()\n",
    "plt.ylabel('Actual')\n",
    "plt.xlabel('Predicted')"
   ]
  },
  {
   "cell_type": "code",
   "execution_count": null,
   "id": "78639c8b-755e-4f22-a746-1bb033e87908",
   "metadata": {},
   "outputs": [],
   "source": []
  }
 ],
 "metadata": {
  "kernelspec": {
   "display_name": "Python 3 (ipykernel)",
   "language": "python",
   "name": "python3"
  },
  "language_info": {
   "codemirror_mode": {
    "name": "ipython",
    "version": 3
   },
   "file_extension": ".py",
   "mimetype": "text/x-python",
   "name": "python",
   "nbconvert_exporter": "python",
   "pygments_lexer": "ipython3",
   "version": "3.10.8"
  }
 },
 "nbformat": 4,
 "nbformat_minor": 5
}
